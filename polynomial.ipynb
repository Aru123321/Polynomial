{
 "cells": [
  {
   "cell_type": "code",
   "execution_count": 3,
   "id": "f0022b67",
   "metadata": {},
   "outputs": [
    {
     "name": "stdout",
     "output_type": "stream",
     "text": [
      "4 + 3 + X + 1 * ( X * X + 1 )\n"
     ]
    }
   ],
   "source": [
    "class X:\n",
    "    def __init__(self):\n",
    "        pass\n",
    "\n",
    "    def __repr__(self):\n",
    "        return \"X\"\n",
    "\n",
    "class Int:\n",
    "    def __init__(self, i):\n",
    "        self.i = i\n",
    "\n",
    "    def __repr__(self):\n",
    "        return str(self.i)\n",
    "\n",
    "class Add:\n",
    "    def __init__(self, p1, p2):\n",
    "        self.p1 = p1\n",
    "        self.p2 = p2\n",
    "\n",
    "    def __repr__(self):\n",
    "        return repr(self.p1) + \" + \" + repr(self.p2)\n",
    "\n",
    "class Mul:\n",
    "    def __init__(self, p1, p2):\n",
    "        self.p1 = p1\n",
    "        self.p2 = p2\n",
    "\n",
    "    def __repr__(self):\n",
    "        if isinstance(self.p1, Add):\n",
    "            if isinstance(self.p2, Add):\n",
    "                 return \"( \" + repr(self.p1) + \" ) * ( \" + repr(self.p2) + \" )\"\n",
    "            return \"( \" + repr(self.p1) + \" ) * \" + repr(self.p2)\n",
    "        if isinstance(self.p2, Add):\n",
    "            return repr(self.p1) + \" * ( \" + repr(self.p2) + \" )\"\n",
    "        return repr(self.p1) + \" * \" + repr(self.p2)\n",
    "\n",
    "\n",
    "poly = Add( Add( Int(4), Int(3)), Add( X(), Mul( Int(1), Add( Mul(X(), X()), Int(1)))))\n",
    "print(poly)\n"
   ]
  }
 ],
 "metadata": {
  "kernelspec": {
   "display_name": "Python 3 (ipykernel)",
   "language": "python",
   "name": "python3"
  },
  "language_info": {
   "codemirror_mode": {
    "name": "ipython",
    "version": 3
   },
   "file_extension": ".py",
   "mimetype": "text/x-python",
   "name": "python",
   "nbconvert_exporter": "python",
   "pygments_lexer": "ipython3",
   "version": "3.11.5"
  }
 },
 "nbformat": 4,
 "nbformat_minor": 5
}
